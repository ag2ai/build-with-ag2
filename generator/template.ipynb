{
 "cells": [
  {
   "cell_type": "markdown",
   "metadata": {},
   "source": [
    "# AG2 Project Template"
   ]
  },
  {
   "cell_type": "markdown",
   "metadata": {},
   "source": [
    "This is the official project Jupyter notebook template for creating AG2 projects."
   ]
  },
  {
   "cell_type": "markdown",
   "metadata": {},
   "source": [
    "### Installation and configuration\n",
    "- Install [uv package manager](https://github.com/astral-sh/uv)\n",
    "- Run `uv sync`\n",
    "- Select the environment within this folder as your interpreter to run the script and select it as the kernel for running the jupyter notebook.\n",
    "- Create an `OAI_CONFIG_LIST` file, you can use the `OAI_CONFIG_LIST_sample`"
   ]
  },
  {
   "cell_type": "code",
   "execution_count": null,
   "metadata": {},
   "outputs": [],
   "source": [
    "from autogen import AssistantAgent, UserProxyAgent, config_list_from_json\n",
    "\n",
    "# Load LLM inference endpoints from an env variable or a file\n",
    "# See https://docs.ag2.ai/docs/FAQ#set-your-api-endpoints\n",
    "# and OAI_CONFIG_LIST_sample\n",
    "config_list = config_list_from_json(env_or_file=\"OAI_CONFIG_LIST\")\n",
    "# You can also set config_list directly as a list, for example, config_list = [{'model': 'gpt-4o', 'api_key': '<your OpenAI API key here>'},]\n",
    "assistant = AssistantAgent(\"assistant\", llm_config={\"config_list\": config_list})\n",
    "user_proxy = UserProxyAgent(\n",
    "    \"user_proxy\", code_execution_config={\"work_dir\": \"coding\", \"use_docker\": False}\n",
    ")  # IMPORTANT: set to True to run code in docker, recommended\n",
    "user_proxy.initiate_chat(\n",
    "    assistant, message=\"Plot a chart of NVDA and TESLA stock price change YTD.\"\n",
    ")\n",
    "# This initiates an automated chat between the two agents to solve the task"
   ]
  }
 ],
 "metadata": {
  "kernelspec": {
   "display_name": ".venv",
   "language": "python",
   "name": "python3"
  },
  "language_info": {
   "name": "python",
   "version": "3.11.9"
  }
 },
 "nbformat": 4,
 "nbformat_minor": 2
}
